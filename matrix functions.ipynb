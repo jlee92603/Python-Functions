{
 "cells": [
  {
   "cell_type": "code",
   "execution_count": 17,
   "metadata": {
    "tags": []
   },
   "outputs": [],
   "source": [
    "class Matrix:\n",
    "    def __init__(self, data): # initialize\n",
    "        self.n_rows = len(data)\n",
    "        self.n_cols = len(data[0])\n",
    "        self.data = data # a list of lists\n",
    "        \n",
    "    def __call__(self):\n",
    "        return 'Matrix defined in a {} by {} space: {}'.format(self.n_rows, self.n_cols, self.data) \n",
    "    \n",
    "    def __add__(self, other): # add two matrices\n",
    "        assert self.n_rows == other.n_rows\n",
    "        assert self.n_cols == other.n_cols\n",
    "        new_matrix = []\n",
    "        for i in range(self.n_rows): \n",
    "            temp = []\n",
    "            for j in range(self.n_cols):\n",
    "                temp.append(self.data[i][j] + other.data[i][j])\n",
    "                \n",
    "            new_matrix.append(temp)\n",
    "            \n",
    "        return Matrix(new_matrix)\n",
    "    \n",
    "    def __sub__(self, other): # subtracts two matrices\n",
    "        assert self.n_rows == other.n_rows\n",
    "        assert self.n_cols == other.n_cols\n",
    "        new_matrix = []\n",
    "        for i in range(self.n_rows): \n",
    "            temp = []\n",
    "            for j in range(self.n_cols):\n",
    "                temp.append(self.data[i][j] - other.data[i][j])\n",
    "                \n",
    "            new_matrix.append(temp)\n",
    "            \n",
    "        return Matrix(new_matrix)\n",
    "        \n",
    "    def scalar_mul(self, scalar): # scalar multiplication\n",
    "        new_matrix = []\n",
    "        for i in range(self.n_rows):\n",
    "            temp = []\n",
    "            for j in range(self.n_cols):\n",
    "                temp.append(self.data[i][j] * scalar)\n",
    "                \n",
    "            new_matrix.append(temp)\n",
    "            \n",
    "        return Matrix(new_matrix)\n",
    "    \n",
    "    def vector_mul(self, vector): # vector multiplication\n",
    "        assert self.n_cols == len(vector)\n",
    "        new_matrix = []\n",
    "        for i in range(self.n_rows):\n",
    "            temp = []\n",
    "            for j in range(self.n_cols):\n",
    "                temp.append(self.data[i][j] * vector[j])\n",
    "                \n",
    "            new_matrix.append(temp)\n",
    "            \n",
    "        return Matrix(new_matrix)\n",
    "    \n",
    "    def matrix_mul(self, other): # matrix-matrix multiplication\n",
    "        assert self.n_cols == other.n_rows\n",
    "        new_matrix = []\n",
    "        for i in range(self.n_rows):\n",
    "            temp_list = []\n",
    "            for k in range(other.n_cols):\n",
    "                temp_value = 0\n",
    "                for j in range(self.n_cols):\n",
    "                    temp_value += self.data[i][j] * other.data[j][k]\n",
    "                temp_list.append(temp_value)\n",
    "                \n",
    "            new_matrix.append(temp_list)\n",
    "            \n",
    "        return Matrix(new_matrix)\n",
    "    \n",
    "    def norm(self): # find norm of matrix\n",
    "        value = 0\n",
    "        for i in range(self.n_rows):\n",
    "            for j in range(self.n_cols):\n",
    "                value += self.data[i][j]**2\n",
    "            \n",
    "        result = value**(1/2)\n",
    "        \n",
    "        return result\n",
    "     \n",
    "    def row_sum(self): # find sum of rows of matrix\n",
    "        result = ZeroMatrix(1, self.n_cols)\n",
    "        for j in range(self.n_cols):\n",
    "            temp_sum = 0\n",
    "            for i in range(self.n_rows):\n",
    "                temp_sum += self.data[i][j]\n",
    "                \n",
    "            result.data[0][j] = temp_sum\n",
    "            \n",
    "        return result\n",
    "\n",
    "    def col_sum(self): # find sum of columns of matrix\n",
    "        result = ZeroMatrix(self.n_rows, 1)\n",
    "        for i in range(self.n_rows):\n",
    "            temp_sum = 0\n",
    "            for j in range(self.n_cols):\n",
    "                temp_sum += self.data[i][j]\n",
    "            result.data[i][0] = temp_sum\n",
    "            \n",
    "        return result\n",
    "        \n",
    "    def total_sum(self): # find total sum of matrix\n",
    "        result = 0\n",
    "        for i in range(self.n_rows):\n",
    "            result += sum(self.data[i])\n",
    "        return result\n",
    "    \n",
    "    def transpose(self): # return transpose of matrix\n",
    "        result = []\n",
    "        for i in range(len(self.data[0])):\n",
    "            temp = []\n",
    "            for j in range(len(self.data)):\n",
    "                temp.append(self.data[j][i])\n",
    "            \n",
    "            result.append(temp)\n",
    "        return result\n",
    "    \n",
    "    def rotate_clockwise(self): # rotate the matrix values clockwise\n",
    "        x = len(self.data)\n",
    "        y = len(self.data[0])\n",
    "        result = []\n",
    "        for j in range(y):\n",
    "            temp = []\n",
    "            for i in range(x):\n",
    "                temp.append(self.data[-i-1][j])\n",
    "\n",
    "            result.append(temp)\n",
    "\n",
    "        return result\n",
    "\n",
    "    def rotate_counterclockwise(self): # rotate the matrix values counter clockwise\n",
    "        x = len(self.data)\n",
    "        y = len(self.data[0])\n",
    "        result = []\n",
    "        for j in range(y):\n",
    "            temp = []\n",
    "            for i in range(x):\n",
    "                temp.append(self.data[i][-j-1])\n",
    "\n",
    "            result.append(temp)\n",
    "\n",
    "        return result\n"
   ]
  },
  {
   "cell_type": "code",
   "execution_count": 18,
   "metadata": {},
   "outputs": [
    {
     "name": "stdout",
     "output_type": "stream",
     "text": [
      "[[1, 4, 7, 10], [2, 5, 8, 11], [3, 6, 9, 12]]\n",
      "[[10, 7, 4, 1], [11, 8, 5, 2], [12, 9, 6, 3]]\n",
      "[[3, 6, 9, 12], [2, 5, 8, 11], [1, 4, 7, 10]]\n"
     ]
    }
   ],
   "source": [
    "A = Matrix([[1,2,3],[4,5,6],[7,8,9],[10,11,12]])\n",
    "print(A.transpose())\n",
    "print(A.rotate_clockwise())\n",
    "print(A.rotate_counterclockwise())"
   ]
  },
  {
   "cell_type": "code",
   "execution_count": 19,
   "metadata": {},
   "outputs": [],
   "source": [
    "class ZeroMatrix(Matrix): # make matrix of \n",
    "    def __init__(self, m, n):\n",
    "        temp_data = []\n",
    "        for i in range(m):\n",
    "            temp = []\n",
    "            for j in range(n):\n",
    "                temp.append(0)\n",
    "            temp_data.append(temp)\n",
    "        super().__init__(temp_data)"
   ]
  },
  {
   "cell_type": "code",
   "execution_count": 20,
   "metadata": {},
   "outputs": [],
   "source": [
    "# find determinant of matrix\n",
    "def det(matrix):\n",
    "\n",
    "    if matrix.n_rows == 2:\n",
    "        return (matrix.data[0][0] * matrix.data[1][1]) - (matrix.data[0][1] * matrix.data[1][0])\n",
    "    \n",
    "    n_sub_rows = matrix.n_rows - 1\n",
    "    n_sub_cols = matrix.n_cols - 1\n",
    "    sub_matrix = ZeroMatrix(n_sub_cols, n_sub_rows)\n",
    "    \n",
    "    final_value = 0\n",
    "    plus_minus = -1\n",
    "\n",
    "    for i in range(matrix.n_cols):\n",
    "        \n",
    "        sub_matrix_row = 0\n",
    "        for j in range(n_sub_rows):\n",
    "            sub_matrix_col = 0\n",
    "            for k in range(matrix.n_cols):\n",
    "                if i == k:\n",
    "                    continue\n",
    "                else:\n",
    "                    sub_matrix.data[sub_matrix_row][sub_matrix_col] = matrix.data[j+1][k]\n",
    "                    sub_matrix_col += 1\n",
    "            sub_matrix_row += 1\n",
    "\n",
    "        det_value = det(sub_matrix)\n",
    "        \n",
    "        multiplied_value = matrix.data[0][i] * det_value\n",
    "        \n",
    "        plus_minus = plus_minus * (-1) \n",
    "        final_value = final_value + (plus_minus * multiplied_value)\n",
    "    \n",
    "    return final_value"
   ]
  },
  {
   "cell_type": "code",
   "execution_count": 21,
   "metadata": {},
   "outputs": [
    {
     "data": {
      "text/plain": [
       "-6"
      ]
     },
     "execution_count": 21,
     "metadata": {},
     "output_type": "execute_result"
    }
   ],
   "source": [
    "C = Matrix([[5,6,7],[4,5,6],[1,8,9]])\n",
    "det(C)"
   ]
  },
  {
   "cell_type": "code",
   "execution_count": 22,
   "metadata": {},
   "outputs": [
    {
     "data": {
      "text/plain": [
       "48"
      ]
     },
     "execution_count": 22,
     "metadata": {},
     "output_type": "execute_result"
    }
   ],
   "source": [
    "D = Matrix([[5,6,7,3],[4,5,6,5],[1,8,9,6],[2,3,4,1]])\n",
    "det(D)"
   ]
  }
 ],
 "metadata": {
  "kernelspec": {
   "display_name": "Python 3",
   "language": "python",
   "name": "python3"
  },
  "language_info": {
   "codemirror_mode": {
    "name": "ipython",
    "version": 3
   },
   "file_extension": ".py",
   "mimetype": "text/x-python",
   "name": "python",
   "nbconvert_exporter": "python",
   "pygments_lexer": "ipython3",
   "version": "3.7.6"
  }
 },
 "nbformat": 4,
 "nbformat_minor": 4
}
