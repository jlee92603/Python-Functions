{
 "cells": [
  {
   "cell_type": "markdown",
   "metadata": {},
   "source": [
    "### Matrix functions without numpy (includes multiplication, transpose, rotations, determinant)"
   ]
  },
  {
   "cell_type": "code",
   "execution_count": 19,
   "metadata": {},
   "outputs": [],
   "source": [
    "class Matrix:\n",
    "    def __init__(self, data): # initialize\n",
    "        self.n_rows = len(data)\n",
    "        self.n_cols = len(data[0])\n",
    "        self.data = data # a list of lists\n",
    "        \n",
    "    def __call__(self):\n",
    "        return 'Matrix defined in a {} by {} space: {}'.format(self.n_rows, self.n_cols, self.data) \n",
    "    \n",
    "    def __add__(self, other): # add two matrices\n",
    "        assert self.n_rows == other.n_rows\n",
    "        assert self.n_cols == other.n_cols\n",
    "        new_matrix = []\n",
    "        for i in range(self.n_rows): \n",
    "            temp = []\n",
    "            for j in range(self.n_cols):\n",
    "                temp.append(self.data[i][j] + other.data[i][j])\n",
    "                \n",
    "            new_matrix.append(temp)\n",
    "            \n",
    "        return Matrix(new_matrix)\n",
    "    \n",
    "    def __sub__(self, other): # subtracts two matrices\n",
    "        assert self.n_rows == other.n_rows\n",
    "        assert self.n_cols == other.n_cols\n",
    "        new_matrix = []\n",
    "        for i in range(self.n_rows): \n",
    "            temp = []\n",
    "            for j in range(self.n_cols):\n",
    "                temp.append(self.data[i][j] - other.data[i][j])\n",
    "                \n",
    "            new_matrix.append(temp)\n",
    "            \n",
    "        return Matrix(new_matrix)\n",
    "        \n",
    "    def scalar_mul(self, scalar): # scalar multiplication\n",
    "        new_matrix = []\n",
    "        for i in range(self.n_rows):\n",
    "            temp = []\n",
    "            for j in range(self.n_cols):\n",
    "                temp.append(self.data[i][j] * scalar)\n",
    "                \n",
    "            new_matrix.append(temp)\n",
    "            \n",
    "        return Matrix(new_matrix)\n",
    "    \n",
    "    def vector_mul(self, vector): # vector multiplication\n",
    "        assert self.n_cols == len(vector)\n",
    "        new_matrix = []\n",
    "        for i in range(self.n_rows):\n",
    "            temp = []\n",
    "            for j in range(self.n_cols):\n",
    "                temp.append(self.data[i][j] * vector[j])\n",
    "                \n",
    "            new_matrix.append(temp)\n",
    "            \n",
    "        return Matrix(new_matrix)\n",
    "    \n",
    "    def matrix_mul(self, other): # matrix-matrix multiplication\n",
    "        assert self.n_cols == other.n_rows\n",
    "        new_matrix = []\n",
    "        for i in range(self.n_rows):\n",
    "            temp_list = []\n",
    "            for k in range(other.n_cols):\n",
    "                temp_value = 0\n",
    "                for j in range(self.n_cols):\n",
    "                    temp_value += self.data[i][j] * other.data[j][k]\n",
    "                temp_list.append(temp_value)\n",
    "                \n",
    "            new_matrix.append(temp_list)\n",
    "            \n",
    "        return Matrix(new_matrix)\n",
    "    \n",
    "    def norm(self): # find norm of matrix\n",
    "        value = 0\n",
    "        for i in range(self.n_rows):\n",
    "            for j in range(self.n_cols):\n",
    "                value += self.data[i][j]**2\n",
    "            \n",
    "        result = value**(1/2)\n",
    "        \n",
    "        return result\n",
    "     \n",
    "    def row_sum(self): # find sum of rows of matrix\n",
    "        result = ZeroMatrix(1, self.n_cols)\n",
    "        for j in range(self.n_cols):\n",
    "            temp_sum = 0\n",
    "            for i in range(self.n_rows):\n",
    "                temp_sum += self.data[i][j]\n",
    "                \n",
    "            result.data[0][j] = temp_sum\n",
    "            \n",
    "        return result\n",
    "\n",
    "    def col_sum(self): # find sum of columns of matrix\n",
    "        result = ZeroMatrix(self.n_rows, 1)\n",
    "        for i in range(self.n_rows):\n",
    "            temp_sum = 0\n",
    "            for j in range(self.n_cols):\n",
    "                temp_sum += self.data[i][j]\n",
    "            result.data[i][0] = temp_sum\n",
    "            \n",
    "        return result\n",
    "        \n",
    "    def total_sum(self): # find total sum of matrix\n",
    "        result = 0\n",
    "        for i in range(self.n_rows):\n",
    "            result += sum(self.data[i])\n",
    "        return result\n",
    "    \n",
    "    def transpose(self): # return transpose of matrix\n",
    "        result = []\n",
    "        for i in range(len(self.data[0])):\n",
    "            temp = []\n",
    "            for j in range(len(self.data)):\n",
    "                temp.append(self.data[j][i])\n",
    "            \n",
    "            result.append(temp)\n",
    "        return result\n",
    "    \n",
    "    def rotate_clockwise(self): # rotate the matrix values clockwise\n",
    "        x = len(self.data)\n",
    "        y = len(self.data[0])\n",
    "        result = []\n",
    "        for j in range(y):\n",
    "            temp = []\n",
    "            for i in range(x):\n",
    "                temp.append(self.data[-i-1][j])\n",
    "\n",
    "            result.append(temp)\n",
    "\n",
    "        return result\n",
    "\n",
    "    def rotate_counterclockwise(self): # rotate the matrix values counter clockwise\n",
    "        x = len(self.data)\n",
    "        y = len(self.data[0])\n",
    "        result = []\n",
    "        for j in range(y):\n",
    "            temp = []\n",
    "            for i in range(x):\n",
    "                temp.append(self.data[i][-j-1])\n",
    "\n",
    "            result.append(temp)\n",
    "\n",
    "        return result\n"
   ]
  },
  {
   "cell_type": "code",
   "execution_count": 20,
   "metadata": {},
   "outputs": [
    {
     "name": "stdout",
     "output_type": "stream",
     "text": [
      "[[1, 4, 7, 10], [2, 5, 8, 11], [3, 6, 9, 12]]\n",
      "[[10, 7, 4, 1], [11, 8, 5, 2], [12, 9, 6, 3]]\n",
      "[[3, 6, 9, 12], [2, 5, 8, 11], [1, 4, 7, 10]]\n"
     ]
    }
   ],
   "source": [
    "A = Matrix([[1,2,3],[4,5,6],[7,8,9],[10,11,12]])\n",
    "print(A.transpose())\n",
    "print(A.rotate_clockwise())\n",
    "print(A.rotate_counterclockwise())"
   ]
  },
  {
   "cell_type": "code",
   "execution_count": 21,
   "metadata": {},
   "outputs": [],
   "source": [
    "class ZeroMatrix(Matrix): # make matrix of zeros\n",
    "    def __init__(self, m, n):\n",
    "        temp_data = []\n",
    "        for i in range(m):\n",
    "            temp = []\n",
    "            for j in range(n):\n",
    "                temp.append(0)\n",
    "            temp_data.append(temp)\n",
    "        super().__init__(temp_data)"
   ]
  },
  {
   "cell_type": "code",
   "execution_count": 22,
   "metadata": {},
   "outputs": [],
   "source": [
    "# find determinant of matrix\n",
    "def det(matrix):\n",
    "\n",
    "    if matrix.n_rows == 2:\n",
    "        return (matrix.data[0][0] * matrix.data[1][1]) - (matrix.data[0][1] * matrix.data[1][0])\n",
    "    \n",
    "    n_sub_rows = matrix.n_rows - 1\n",
    "    n_sub_cols = matrix.n_cols - 1\n",
    "    sub_matrix = ZeroMatrix(n_sub_cols, n_sub_rows)\n",
    "    \n",
    "    final_value = 0\n",
    "    plus_minus = -1\n",
    "\n",
    "    for i in range(matrix.n_cols):\n",
    "        \n",
    "        sub_matrix_row = 0\n",
    "        for j in range(n_sub_rows):\n",
    "            sub_matrix_col = 0\n",
    "            for k in range(matrix.n_cols):\n",
    "                if i == k:\n",
    "                    continue\n",
    "                else:\n",
    "                    sub_matrix.data[sub_matrix_row][sub_matrix_col] = matrix.data[j+1][k]\n",
    "                    sub_matrix_col += 1\n",
    "            sub_matrix_row += 1\n",
    "\n",
    "        det_value = det(sub_matrix)\n",
    "        \n",
    "        multiplied_value = matrix.data[0][i] * det_value\n",
    "        \n",
    "        plus_minus = plus_minus * (-1) \n",
    "        final_value = final_value + (plus_minus * multiplied_value)\n",
    "    \n",
    "    return final_value"
   ]
  },
  {
   "cell_type": "code",
   "execution_count": 23,
   "metadata": {},
   "outputs": [
    {
     "data": {
      "text/plain": [
       "-6"
      ]
     },
     "execution_count": 23,
     "metadata": {},
     "output_type": "execute_result"
    }
   ],
   "source": [
    "C = Matrix([[5,6,7],[4,5,6],[1,8,9]])\n",
    "det(C)"
   ]
  },
  {
   "cell_type": "code",
   "execution_count": 24,
   "metadata": {},
   "outputs": [
    {
     "data": {
      "text/plain": [
       "48"
      ]
     },
     "execution_count": 24,
     "metadata": {},
     "output_type": "execute_result"
    }
   ],
   "source": [
    "D = Matrix([[5,6,7,3],[4,5,6,5],[1,8,9,6],[2,3,4,1]])\n",
    "det(D)"
   ]
  },
  {
   "cell_type": "markdown",
   "metadata": {},
   "source": [
    "### Matrix function with numpy (includes gaussian elimination and inverse of matrix)"
   ]
  },
  {
   "cell_type": "code",
   "execution_count": 25,
   "metadata": {},
   "outputs": [],
   "source": [
    "import numpy as np"
   ]
  },
  {
   "cell_type": "code",
   "execution_count": 26,
   "metadata": {},
   "outputs": [],
   "source": [
    "# scalar multiplication to a row\n",
    "def scalar_multiplication_to_a_row(matrix, row_idx, scalar):\n",
    "    result = np.array(matrix)\n",
    "    \n",
    "    result[row_idx] = scalar * matrix[row_idx]\n",
    "    return result"
   ]
  },
  {
   "cell_type": "code",
   "execution_count": 27,
   "metadata": {},
   "outputs": [
    {
     "name": "stdout",
     "output_type": "stream",
     "text": [
      "[[2 4 6]\n",
      " [4 5 6]\n",
      " [7 8 9]]\n"
     ]
    }
   ],
   "source": [
    "A = np.array([\n",
    "    [1,2,3],\n",
    "    [4,5,6],\n",
    "    [7,8,9]\n",
    "])\n",
    "result = scalar_multiplication_to_a_row(matrix=A, row_idx=0, scalar=2)\n",
    "print(result)"
   ]
  },
  {
   "cell_type": "code",
   "execution_count": 28,
   "metadata": {},
   "outputs": [],
   "source": [
    "# interchange of rows\n",
    "def interchange_of_rows(matrix, row_idx1, row_idx2):\n",
    "    result = np.array(matrix)\n",
    "    \n",
    "    result[row_idx1] = matrix[row_idx2]\n",
    "    result[row_idx2] = matrix[row_idx1]\n",
    "    \n",
    "    return result"
   ]
  },
  {
   "cell_type": "code",
   "execution_count": 29,
   "metadata": {},
   "outputs": [
    {
     "name": "stdout",
     "output_type": "stream",
     "text": [
      "[[4 5 6]\n",
      " [1 2 3]\n",
      " [7 8 9]]\n"
     ]
    }
   ],
   "source": [
    "A = np.array([\n",
    "    [1,2,3],\n",
    "    [4,5,6],\n",
    "    [7,8,9]\n",
    "])\n",
    "result = interchange_of_rows(matrix=A, row_idx1=0, row_idx2=1)\n",
    "print(result)"
   ]
  },
  {
   "cell_type": "code",
   "execution_count": 30,
   "metadata": {},
   "outputs": [],
   "source": [
    "# linear combination of rows\n",
    "def linear_combination_of_rows(matrix, coefficients, target_row):\n",
    "    # coefficients: list of coefficients\n",
    "    n_rows, n_cols = matrix.shape\n",
    "    \n",
    "    result = np.array(matrix)\n",
    "    for i in range(n_rows):\n",
    "        if i == target_row:\n",
    "            result[target_row] += (coefficients[i]-1) * matrix[i] \n",
    "        else:\n",
    "            result[target_row] += coefficients[i] * matrix[i] \n",
    "         \n",
    "    return result             "
   ]
  },
  {
   "cell_type": "code",
   "execution_count": 31,
   "metadata": {},
   "outputs": [
    {
     "name": "stdout",
     "output_type": "stream",
     "text": [
      "[[ 1  2  3]\n",
      " [ 4  5  6]\n",
      " [12 15 18]]\n"
     ]
    }
   ],
   "source": [
    "A = np.array([\n",
    "    [1,2,3],\n",
    "    [4,5,6],\n",
    "    [7,8,9]\n",
    "])\n",
    "result = linear_combination_of_rows(A, [1,1,1], 2)\n",
    "print(result)"
   ]
  },
  {
   "cell_type": "code",
   "execution_count": 32,
   "metadata": {},
   "outputs": [],
   "source": [
    "# using the 3 function above, create a function that solves a system of linear equations and performs gaussian elimination\n",
    "# system of linear equations: consists of A and b; AX = b\n",
    "# suppose that A,b are numpy arrays\n",
    "\n",
    "def gaussian_elimination(matrix): # matrix is a 3 by 4 matrix, including both A and b, where last column is b\n",
    "\n",
    "    n_rows, n_cols = matrix.shape\n",
    "    result = np.array(matrix) * 1.0 # make matrix float\n",
    "    \n",
    "    # make sure num of rows is one less than num of columns     \n",
    "    assert n_cols == n_rows + 1\n",
    "\n",
    "    # 1 find the row that has a non-zero coefficient of X(1)\n",
    "    # 2 if the first row has a non-zero coefficient of X(1), then leave it there. Otherwise, switch the first row and the row with a non-zero coefficient\n",
    "    if result[0][0] == 0:\n",
    "        for i in range(n_rows-1):\n",
    "            if result[i+1][0] == 0:\n",
    "                continue\n",
    "            else:\n",
    "                result = interchange_of_rows(result, 0, i+1)\n",
    "                break \n",
    "                \n",
    "    for x in range(n_rows): \n",
    "    # 3 divide some number to make the xth element of xth row to be 1\n",
    "        result[x] = result[x] / result[x][x] # divide by zero\n",
    "        # 4 make all other rows to have 0 as the first element of the rows (via 3rd function we defined)\n",
    "        # 5 repeat 3 and 4 for the rest of the elements\n",
    "        for i in range(n_rows):\n",
    "            if i == x: # skip row of x because item of idex x,x is 1 \n",
    "                continue\n",
    "            else: \n",
    "                k = - result[i][x] # will be multiplied to xth row to subtract out of target row (ith row)\n",
    "                coefficients = [] # to be multiplied to ith row\n",
    "                for j in range(n_rows):\n",
    "                    if j == i:\n",
    "                        coefficients.append(1)\n",
    "                    elif j == x:\n",
    "                        coefficients.append(k)\n",
    "                    else:\n",
    "                        coefficients.append(0)\n",
    "                result = linear_combination_of_rows(result, coefficients, i) # subtract the ith row with xth row times xth item of ith row\n",
    "    print(result)\n",
    "    \n",
    "    matrixB = [] # take elements of last column\n",
    "    for y in range(n_rows):\n",
    "        matrixB.append(result[y][-1])\n",
    "        \n",
    "    return matrixB"
   ]
  },
  {
   "cell_type": "code",
   "execution_count": 33,
   "metadata": {},
   "outputs": [
    {
     "name": "stdout",
     "output_type": "stream",
     "text": [
      "[[ 1.          0.          0.          2.72727273]\n",
      " [ 0.          1.          0.          0.36363636]\n",
      " [-0.         -0.          1.          0.09090909]]\n"
     ]
    },
    {
     "data": {
      "text/plain": [
       "[2.727272727272727, 0.3636363636363636, 0.09090909090909091]"
      ]
     },
     "execution_count": 33,
     "metadata": {},
     "output_type": "execute_result"
    }
   ],
   "source": [
    "A = np.array([\n",
    "    [3,2,1,9],\n",
    "    [2,4,1,7],\n",
    "    [1,1,-1,3]\n",
    "])\n",
    "gaussian_elimination(A) # answer: 2.72, 0.36, 0.09"
   ]
  },
  {
   "cell_type": "code",
   "execution_count": 34,
   "metadata": {},
   "outputs": [
    {
     "name": "stdout",
     "output_type": "stream",
     "text": [
      "[[ 1.  0.  0.  3.]\n",
      " [ 0.  1.  0. -8.]\n",
      " [ 0.  0.  1. -2.]]\n"
     ]
    },
    {
     "data": {
      "text/plain": [
       "[2.9999999999999925, -8.0, -1.999999999999995]"
      ]
     },
     "execution_count": 34,
     "metadata": {},
     "output_type": "execute_result"
    }
   ],
   "source": [
    "B = np.array([\n",
    "    [2,5,2,-38],\n",
    "    [3,-2,4,17],\n",
    "    [-6,1,-7,-12]\n",
    "])\n",
    "gaussian_elimination(B) # answer: 3, -8, -2"
   ]
  },
  {
   "cell_type": "code",
   "execution_count": 35,
   "metadata": {},
   "outputs": [
    {
     "name": "stdout",
     "output_type": "stream",
     "text": [
      "[[ 1.  0.  0.  3.]\n",
      " [ 0.  1.  0. -1.]\n",
      " [ 0.  0.  1. -4.]]\n"
     ]
    },
    {
     "data": {
      "text/plain": [
       "[3.0, -1.0, -4.0]"
      ]
     },
     "execution_count": 35,
     "metadata": {},
     "output_type": "execute_result"
    }
   ],
   "source": [
    "C = np.array([\n",
    "    [0,3,-9,33],\n",
    "    [-4,7,-1,-15],\n",
    "    [6,4,5,-6]\n",
    "])\n",
    "\n",
    "gaussian_elimination(C) # answer: 3, -1, -4"
   ]
  },
  {
   "cell_type": "code",
   "execution_count": 36,
   "metadata": {},
   "outputs": [],
   "source": [
    "# function that returns the inverse of a matrix\n",
    "# given x by x matrix \n",
    "def inverse(matrix):  \n",
    "\n",
    "    n_rows, n_cols = matrix.shape\n",
    "    result = np.array(matrix) * 1.0 # make matrix float\n",
    "    \n",
    "    inv_matrix = np.zeros(matrix.shape) # make identity matrix which will later be the inverse matrix\n",
    "    for i in range(matrix.shape[0]): \n",
    "        inv_matrix[i][i] = 1\n",
    "\n",
    "    # 1 find the row that has a non-zero coefficient of Xth row and Xth column\n",
    "    # 2 if the diagonal element (Xth row and Xth column) has non-zero, then leave it there. Otherwise, switch with a row with a non-zero element in that column\n",
    "    for z in range(n_rows):\n",
    "        if result[z][z] == 0:\n",
    "            for i in range(n_rows-1):\n",
    "                if result[i+1][z] == 0:\n",
    "                    continue\n",
    "                else:\n",
    "                    result = interchange_of_rows(result, z, i+1)\n",
    "                    inv_matrix = interchange_of_rows(inv_matrix, z, i+1)  \n",
    "                    break \n",
    "          \n",
    "    for x in range(n_rows): # x will represent the index (row and col) of diagonal element\n",
    "    # 3 divide some number to make the xth element of xth row to be 1\n",
    "        diag_coef = result[x][x]\n",
    "        result[x] = result[x] / diag_coef \n",
    "        inv_matrix[x] = inv_matrix[x] / diag_coef\n",
    "\n",
    "        # 4 make all other rows to have 0 as the first element of the rows (via 3rd function we defined)\n",
    "        # 5 repeat 3 and 4 for the rest of the elements\n",
    "        for target_row in range(n_rows): # target_row represents the focus row where all elements left of diag will be set to zero\n",
    "            if target_row == x: # skip row of x because item of idex x,x is 1 \n",
    "                continue\n",
    "            else: \n",
    "                k = - result[target_row][x] # will be multiplied to xth row to subtract out of target row \n",
    "                coefficients = [] # will be multiplied to rows \n",
    "                for target_col in range(n_rows):\n",
    "                    if target_col == target_row: # we want the target row as is (so multiply row with 1) \n",
    "                        coefficients.append(1)\n",
    "                    elif target_col == x: # we want to multiply xth row with k to subtract out of target row\n",
    "                        coefficients.append(k)\n",
    "                    else: # other than xth row and target row, we do not need other rows\n",
    "                        coefficients.append(0)\n",
    "\n",
    "                result = linear_combination_of_rows(result, coefficients, target_row) # subtract the ith row with xth row times xth item of ith row\n",
    "                inv_matrix = linear_combination_of_rows(inv_matrix, coefficients, target_row)\n",
    "\n",
    "    return inv_matrix"
   ]
  },
  {
   "cell_type": "code",
   "execution_count": 37,
   "metadata": {},
   "outputs": [
    {
     "name": "stdout",
     "output_type": "stream",
     "text": [
      "[[-0.76923077 -2.84615385 -1.84615385]\n",
      " [ 0.23076923  0.15384615  0.15384615]\n",
      " [ 0.69230769  2.46153846  1.46153846]]\n"
     ]
    },
    {
     "data": {
      "text/plain": [
       "array([[ 1.,  0.,  0.],\n",
       "       [ 0.,  1.,  0.],\n",
       "       [ 0., -0.,  1.]])"
      ]
     },
     "execution_count": 37,
     "metadata": {},
     "output_type": "execute_result"
    }
   ],
   "source": [
    "A = np.array([ \n",
    "    [2,5,2],\n",
    "    [3,-2,4],\n",
    "    [-6,1,-7]\n",
    "])\n",
    "print(inverse(A)) # inverse of matrix\n",
    "np.around(A @ inverse(A),2) # matrix times inverse of matrix"
   ]
  },
  {
   "cell_type": "code",
   "execution_count": 38,
   "metadata": {},
   "outputs": [
    {
     "name": "stdout",
     "output_type": "stream",
     "text": [
      "[[ 0.45454545 -0.27272727  0.18181818]\n",
      " [-0.27272727  0.36363636  0.09090909]\n",
      " [ 0.18181818  0.09090909 -0.72727273]]\n"
     ]
    },
    {
     "data": {
      "text/plain": [
       "array([[ 1.,  0.,  0.],\n",
       "       [-0.,  1.,  0.],\n",
       "       [-0.,  0.,  1.]])"
      ]
     },
     "execution_count": 38,
     "metadata": {},
     "output_type": "execute_result"
    }
   ],
   "source": [
    "B = np.array([\n",
    "    [3,2,1],\n",
    "    [2,4,1],\n",
    "    [1,1,-1]\n",
    "])\n",
    "print(inverse(B)) # inverse of matrix\n",
    "np.around(B @ inverse(B)) # matrix times inverse of matrix"
   ]
  }
 ],
 "metadata": {
  "kernelspec": {
   "display_name": "Python 3",
   "language": "python",
   "name": "python3"
  },
  "language_info": {
   "codemirror_mode": {
    "name": "ipython",
    "version": 3
   },
   "file_extension": ".py",
   "mimetype": "text/x-python",
   "name": "python",
   "nbconvert_exporter": "python",
   "pygments_lexer": "ipython3",
   "version": "3.7.6"
  }
 },
 "nbformat": 4,
 "nbformat_minor": 4
}
