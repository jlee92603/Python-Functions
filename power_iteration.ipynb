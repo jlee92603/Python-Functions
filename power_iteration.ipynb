{
 "cells": [
  {
   "cell_type": "code",
   "execution_count": 1,
   "metadata": {},
   "outputs": [],
   "source": [
    "import numpy as np"
   ]
  },
  {
   "cell_type": "code",
   "execution_count": 2,
   "metadata": {},
   "outputs": [],
   "source": [
    "# for a given square matrix AER ^(mxn), return the pair of principal eigen value and vector using power iteration\n",
    "def power_iteration(matrix, iteration): # matrix is an n by n square matrix\n",
    "    n_rows, n_cols = matrix.shape\n",
    "    \n",
    "    V = [1] # make any random unit vector (||X|| = 1)\n",
    "    for i in range(n_rows-1):\n",
    "        V.append(0)\n",
    "        \n",
    "    for i in range(iteration):\n",
    "        V = matrix @ V\n",
    "        V = V / (np.dot(V,V) ** (1/2)) # normalize the vector\n",
    "        \n",
    "    eigen_vector = V # principal eigen vector\n",
    "    \n",
    "    eigen_value = (V.T @ matrix.T @ V) / np.dot(V,V) # principal eigen value\n",
    "    \n",
    "    return eigen_vector, eigen_value"
   ]
  },
  {
   "cell_type": "code",
   "execution_count": 3,
   "metadata": {},
   "outputs": [
    {
     "name": "stdout",
     "output_type": "stream",
     "text": [
      "(array([0.83205029, 0.5547002 ]), 9.999999999999998)\n",
      "[8.32050292 5.54700198]\n",
      "[8.31967085 5.5464473 ]\n"
     ]
    }
   ],
   "source": [
    "A = np.array([[8,3],[2,7]])\n",
    "print(power_iteration(A, 10000)) \n",
    "print(A @ np.array([0.83205029, 0.5547002]))\n",
    "print(9.999 * np.array([0.83205029, 0.5547002]))"
   ]
  },
  {
   "cell_type": "code",
   "execution_count": 4,
   "metadata": {},
   "outputs": [
    {
     "name": "stdout",
     "output_type": "stream",
     "text": [
      "(array([0.55543318, 0.71580643, 0.42321996]), 10.39013389129487)\n",
      "[5.77102511 7.43732465 4.39731204]\n",
      "[5.77102511 7.43732465 4.39731205]\n"
     ]
    }
   ],
   "source": [
    "B = np.array([[5,3,2],[8,3,2],[2,4,1]])\n",
    "print(power_iteration(B, 10000)) \n",
    "print(B @ np.array([0.55543318, 0.71580643, 0.42321996]))\n",
    "print(10.39013389129487 * np.array([0.55543318, 0.71580643, 0.42321996]))"
   ]
  }
 ],
 "metadata": {
  "kernelspec": {
   "display_name": "Python 3",
   "language": "python",
   "name": "python3"
  },
  "language_info": {
   "codemirror_mode": {
    "name": "ipython",
    "version": 3
   },
   "file_extension": ".py",
   "mimetype": "text/x-python",
   "name": "python",
   "nbconvert_exporter": "python",
   "pygments_lexer": "ipython3",
   "version": "3.7.6"
  }
 },
 "nbformat": 4,
 "nbformat_minor": 4
}
