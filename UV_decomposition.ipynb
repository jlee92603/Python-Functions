{
 "cells": [
  {
   "cell_type": "code",
   "execution_count": 1,
   "metadata": {},
   "outputs": [],
   "source": [
    "from matrix import Matrix, ZeroMatrix, OneMatrix\n",
    "import numpy as np"
   ]
  },
  {
   "cell_type": "code",
   "execution_count": 17,
   "metadata": {},
   "outputs": [],
   "source": [
    "class Recommender_UVD:\n",
    "    # Assuming that \"rating\" is a numpy array\n",
    "    def __init__(self, rating):\n",
    "        self.rating = rating\n",
    "        self.n_rows, self.n_cols = rating.shape\n",
    "    \n",
    "    def initialize_UV(self, d):\n",
    "        self.d = d\n",
    "        self.U = np.ones((self.n_rows, self.d))\n",
    "        self.V = np.ones((self.d, self.n_cols))\n",
    "    \n",
    "    def U_rs(self, r, s):\n",
    "        denom = 0\n",
    "        nom = 0\n",
    "        \n",
    "        for j in range(self.n_cols):\n",
    "            if self.rating[r-1][j] == 0:\n",
    "                continue\n",
    "                \n",
    "            denom += self.V[s-1][j] ** 2\n",
    "            \n",
    "            temp = 0\n",
    "            for k in range(self.d):\n",
    "                temp += self.U[r-1][k] * self.V[k][j]\n",
    "            nom += (self.rating[r-1][j] - temp) * self.V[s-1][j]\n",
    "            \n",
    "        result = nom / denom\n",
    "        return result\n",
    "    \n",
    "    def V_rs(self, r, s): \n",
    "        denom = 0\n",
    "        nom = 0\n",
    "        \n",
    "        for i in range(self.n_rows):\n",
    "            if self.rating[i][s-1] == 0:\n",
    "                continue\n",
    "                \n",
    "            denom += self.U[i][r-1] ** 2\n",
    "            \n",
    "            temp = 0\n",
    "            for k in range(self.d):\n",
    "                temp += self.U[i][k] * self.V[k][s-1]\n",
    "            nom += (self.rating[i][s-1] - temp) * self.U[i][r-1]\n",
    "            \n",
    "        result = nom / denom\n",
    "        return result\n",
    "    \n",
    "    def update_U(self, r, s, value):\n",
    "        self.U[r-1][s-1] = value\n",
    "        \n",
    "    def update_V(self, r, s, value):\n",
    "        self.V[r-1][s-1] = value\n",
    "        \n",
    "    def construct_M_hat(self):\n",
    "        return self.U @ self.V\n",
    "    \n",
    "    def squared_Frobenius_norm(self):\n",
    "        M_hat = self.construct_M_hat()\n",
    "        \n",
    "        sq_diff = 0\n",
    "        \n",
    "        for i in range(self.n_rows):\n",
    "            for j in range(self.n_cols):\n",
    "                sq_diff += (self.rating[i][j] - M_hat[i][j]) ** 2\n",
    "                \n",
    "        return sq_diff\n",
    "    \n",
    "    def sweep(self, sweep_count, d): # sweep_count = number of sweeps\n",
    "        self.initialize_UV(d) # d- value (make OneMatrix for U and V)\n",
    "        \n",
    "        logs = []\n",
    "        for a in range(sweep_count):\n",
    "            # p is column num for U and row num for V\n",
    "            for p in range(1,d+1): # start index from 1 because 1 is the first index on the matrix (1 is subtracted later)\n",
    "                # q is row num for U and column num for V\n",
    "                for q in range(1, self.n_rows+1): # 2 = d- value \n",
    "                    x = self.U_rs(q,p) # find value of Urs\n",
    "                    self.update_U(q,p,x) # update U matrix with new value of Urs\n",
    "                    #print(self.U)\n",
    "\n",
    "                    y = self.V_rs(p,q) # find value of Vsr\n",
    "                    self.update_V(p,q,y) # update V matrix with new value of Vsr\n",
    "                    #print(self.V)\n",
    "\n",
    "            logs.append(self.squared_Frobenius_norm)\n",
    "        print(self.construct_M_hat())\n",
    "\n",
    "        return logs\n",
    "\n"
   ]
  },
  {
   "cell_type": "code",
   "execution_count": 3,
   "metadata": {},
   "outputs": [
    {
     "name": "stdout",
     "output_type": "stream",
     "text": [
      "[[ 1.27164306  1.06764204  1.78126096]\n",
      " [ 5.2344284   2.65252884  3.39531134]\n",
      " [-0.39602034  1.13989097  2.77245097]]\n"
     ]
    },
    {
     "data": {
      "text/plain": [
       "38.97345196960585"
      ]
     },
     "execution_count": 3,
     "metadata": {},
     "output_type": "execute_result"
    }
   ],
   "source": [
    "rating = np.array([[1,2,3],[0,4,5],[1,0,4]])\n",
    "uvd = Recommender_UVD(rating)\n",
    "uvd.sweep(2,2)"
   ]
  },
  {
   "cell_type": "code",
   "execution_count": 38,
   "metadata": {},
   "outputs": [
    {
     "name": "stdout",
     "output_type": "stream",
     "text": [
      "28.0\n",
      "[[1 2 3]\n",
      " [0 4 5]\n",
      " [1 0 4]]\n",
      "0.0\n",
      "31.0\n",
      "[[0. 1.]\n",
      " [1. 1.]\n",
      " [1. 1.]]\n",
      "[[1. 1. 1.]\n",
      " [2. 2. 2.]\n",
      " [2. 2. 2.]]\n"
     ]
    }
   ],
   "source": [
    "rating = np.array([[1,2,3],[0,4,5],[1,0,4]])\n",
    "\n",
    "uvd = Recommender_UVD(rating)\n",
    "uvd.initialize_UV(2)\n",
    "print(uvd.squared_Frobenius_norm())\n",
    "print(uvd.rating)\n",
    "\n",
    "x = uvd.U_rs(1,1)\n",
    "print(x)\n",
    "uvd.update_U(1,1,x)\n",
    "print(uvd.squared_Frobenius_norm())\n",
    "print(uvd.U)\n",
    "y = uvd.construct_M_hat() # updated M_hat matrix \n",
    "print(y)"
   ]
  },
  {
   "cell_type": "code",
   "execution_count": null,
   "metadata": {},
   "outputs": [],
   "source": []
  }
 ],
 "metadata": {
  "kernelspec": {
   "display_name": "Python 3",
   "language": "python",
   "name": "python3"
  },
  "language_info": {
   "codemirror_mode": {
    "name": "ipython",
    "version": 3
   },
   "file_extension": ".py",
   "mimetype": "text/x-python",
   "name": "python",
   "nbconvert_exporter": "python",
   "pygments_lexer": "ipython3",
   "version": "3.7.6"
  }
 },
 "nbformat": 4,
 "nbformat_minor": 4
}
